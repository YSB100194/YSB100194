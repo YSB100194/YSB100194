{
  "nbformat": 4,
  "nbformat_minor": 0,
  "metadata": {
    "colab": {
      "name": "Portfolio Optimizaion.ipynb",
      "provenance": [],
      "authorship_tag": "ABX9TyPBJMw/TSBdMCeLluaDe867",
      "include_colab_link": true
    },
    "kernelspec": {
      "name": "python3",
      "display_name": "Python 3"
    },
    "language_info": {
      "name": "python"
    }
  },
  "cells": [
    {
      "cell_type": "markdown",
      "metadata": {
        "id": "view-in-github",
        "colab_type": "text"
      },
      "source": [
        "<a href=\"https://colab.research.google.com/github/YSB100194/YSB100194/blob/main/Portfolio_Optimizaion.ipynb\" target=\"_parent\"><img src=\"https://colab.research.google.com/assets/colab-badge.svg\" alt=\"Open In Colab\"/></a>"
      ]
    },
    {
      "cell_type": "code",
      "execution_count": 1,
      "metadata": {
        "id": "xzQ-lciHSNl9"
      },
      "outputs": [],
      "source": [
        "# Description : This program attempt to optimize the user porfolio using the efficient frontier"
      ]
    },
    {
      "cell_type": "code",
      "source": [
        "# Import the python libraries\n",
        "from pandas_datareader import data as web\n",
        "import pandas as np\n",
        "import numpy as np\n",
        "from datetime import datetime\n",
        "import matplotlib.pyplot as plt\n",
        "plt.style.use('fivethirtyeight')"
      ],
      "metadata": {
        "id": "Nb9x2Mh6SrRc"
      },
      "execution_count": 2,
      "outputs": []
    }
  ]
}